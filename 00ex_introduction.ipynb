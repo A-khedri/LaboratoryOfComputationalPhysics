{
 "cells": [
  {
   "cell_type": "markdown",
   "metadata": {},
   "source": [
    "1. The MickeyMouse problem\n",
    "\n",
    "a) Write a program that prints the numbers from 1 to 100. But for multiples of three print Mickey instead of the number and for the multiples of five print Mouse. For numbers which are multiples of both three and five print MickeyMouse\n",
    "\n",
    "b) Put the result in a list and substitute Mickey with Donald and Mouse with Duck"
   ]
  },
  {
   "cell_type": "code",
   "execution_count": 5,
   "metadata": {},
   "outputs": [
    {
     "name": "stdout",
     "output_type": "stream",
     "text": [
      "[1, 2, 'Mickey', 4, 'Mouse', 'Mickey', 7, 8, 'Mickey', 'Mouse', 11, 'Mickey', 13, 14, 'MickeyMouse', 16, 17, 'Mickey', 19, 'Mouse', 'Mickey', 22, 23, 'Mickey', 'Mouse', 26, 'Mickey', 28, 29, 'MickeyMouse', 31, 32, 'Mickey', 34, 'Mouse', 'Mickey', 37, 38, 'Mickey', 'Mouse', 41, 'Mickey', 43, 44, 'MickeyMouse', 46, 47, 'Mickey', 49, 'Mouse', 'Mickey', 52, 53, 'Mickey', 'Mouse', 56, 'Mickey', 58, 59, 'MickeyMouse', 61, 62, 'Mickey', 64, 'Mouse', 'Mickey', 67, 68, 'Mickey', 'Mouse', 71, 'Mickey', 73, 74, 'MickeyMouse', 76, 77, 'Mickey', 79, 'Mouse', 'Mickey', 82, 83, 'Mickey', 'Mouse', 86, 'Mickey', 88, 89, 'MickeyMouse', 91, 92, 'Mickey', 94, 'Mouse', 'Mickey', 97, 98, 'Mickey', 'Mouse']\n",
      "[1, 2, 'Donald', 4, 'Duck', 'Donald', 7, 8, 'Donald', 'Duck', 11, 'Donald', 13, 14, 'DonaldDuck', 16, 17, 'Donald', 19, 'Duck', 'Donald', 22, 23, 'Donald', 'Duck', 26, 'Donald', 28, 29, 'DonaldDuck', 31, 32, 'Donald', 34, 'Duck', 'Donald', 37, 38, 'Donald', 'Duck', 41, 'Donald', 43, 44, 'DonaldDuck', 46, 47, 'Donald', 49, 'Duck', 'Donald', 52, 53, 'Donald', 'Duck', 56, 'Donald', 58, 59, 'DonaldDuck', 61, 62, 'Donald', 64, 'Duck', 'Donald', 67, 68, 'Donald', 'Duck', 71, 'Donald', 73, 74, 'DonaldDuck', 76, 77, 'Donald', 79, 'Duck', 'Donald', 82, 83, 'Donald', 'Duck', 86, 'Donald', 88, 89, 'DonaldDuck', 91, 92, 'Donald', 94, 'Duck', 'Donald', 97, 98, 'Donald', 'Duck']\n"
     ]
    }
   ],
   "source": [
    "List=[]\n",
    "\n",
    "for i in range(1,101):\n",
    "    if (i % 5==0) and (i%3==0):\n",
    "        #print (\"MickeyMouse\")\n",
    "        List.append(\"MickeyMouse\")\n",
    "    elif i % 3 ==0:\n",
    "        List.append(\"Mickey\")\n",
    "    elif i % 5 ==0:\n",
    "        #print (\"Mouse\")\n",
    "        List.append(\"Mouse\") \n",
    "    else: \n",
    "        #print (i)\n",
    "        List.append(i)\n",
    "\n",
    "print(List)\n",
    "\n",
    "for i in range(0,100):    \n",
    "    if List[i]==\"Mickey\":\n",
    "        List[i]=\"Donald\"\n",
    "    elif List[i]==\"Mouse\":\n",
    "        List[i]=\"Duck\"\n",
    "    elif List[i]==\"MickeyMouse\":\n",
    "        List[i]=\"DonaldDuck\"\n",
    "print(List)\n",
    "\n"
   ]
  },
  {
   "cell_type": "markdown",
   "metadata": {},
   "source": [
    "2\\. The swap function\n",
    "\n",
    "Write a function that swap the values of two input variables x and y (whatever the type). Try to do that also without a temporary variable"
   ]
  },
  {
   "cell_type": "code",
   "execution_count": 6,
   "metadata": {},
   "outputs": [
    {
     "data": {
      "text/plain": [
       "(6, 5)"
      ]
     },
     "execution_count": 6,
     "metadata": {},
     "output_type": "execute_result"
    }
   ],
   "source": [
    "def swapFun(x,y):\n",
    "    L=[x,y]\n",
    "    x=L[1]\n",
    "    y=L[0]\n",
    "    return x,y\n",
    "\n",
    "swapFun(5,6)\n",
    "\n",
    "\n",
    "    "
   ]
  },
  {
   "cell_type": "code",
   "execution_count": 7,
   "metadata": {},
   "outputs": [
    {
     "data": {
      "text/plain": [
       "(4, 3)"
      ]
     },
     "execution_count": 7,
     "metadata": {},
     "output_type": "execute_result"
    }
   ],
   "source": [
    "#witout temp var \n",
    "def SwapFun(x,y):\n",
    "    y=[y]\n",
    "    y.append(x)\n",
    "    x=y[0]\n",
    "    y=y[1]\n",
    "    return x,y\n",
    "SwapFun(3,4)\n",
    "    "
   ]
  },
  {
   "cell_type": "markdown",
   "metadata": {},
   "source": [
    "3\\. Computing the distance\n",
    "\n",
    "Write a function that calculates and returns the euclidean distance between two points *u* and *v*, where *u* and *v* are both 2-tuples *(x,y)*. For example, if *u=(3,0)* and *v=(0,4)*, the function should return 5"
   ]
  },
  {
   "cell_type": "code",
   "execution_count": 8,
   "metadata": {},
   "outputs": [
    {
     "data": {
      "text/plain": [
       "5.0"
      ]
     },
     "execution_count": 8,
     "metadata": {},
     "output_type": "execute_result"
    }
   ],
   "source": [
    "from math import *\n",
    "def DistanceEuc(u,v):\n",
    "    Dist=sqrt(pow((v[0]-u[0]),2)+pow((v[1]-u[1]),2))\n",
    "    return Dist\n",
    "\n",
    "u=(3,0)\n",
    "v=(0,4)\n",
    "DistanceEuc(u,v)"
   ]
  },
  {
   "cell_type": "markdown",
   "metadata": {},
   "source": [
    "4\\. Counting letters\n",
    "\n",
    "Write a program to calculate the number of times each character occurs in a given string *s*. Ignore differneces in capitalization"
   ]
  },
  {
   "cell_type": "code",
   "execution_count": 9,
   "metadata": {},
   "outputs": [],
   "source": [
    "def NumOcc(s):\n",
    "    for i in s:\n",
    "        N=0\n",
    "        for j in s:\n",
    "            if i==j:\n",
    "                N=N+1\n",
    "        \n",
    "        print (i,\"appears in the sentence\", N ,\"times\")\n"
   ]
  },
  {
   "cell_type": "code",
   "execution_count": 10,
   "metadata": {},
   "outputs": [],
   "source": [
    "s=\"Write a program that prints the numbers from 1 to 100. \\\n",
    "But for multiples of three print Mickey instead of the number and for the multiples of five print Mouse. \\\n",
    "For numbers which are multiples of both three and five print MickeyMouse\"\n"
   ]
  },
  {
   "cell_type": "code",
   "execution_count": 11,
   "metadata": {},
   "outputs": [
    {
     "name": "stdout",
     "output_type": "stream",
     "text": [
      "W appears in the sentence 1 times\n",
      "r appears in the sentence 17 times\n",
      "i appears in the sentence 14 times\n",
      "t appears in the sentence 19 times\n",
      "e appears in the sentence 22 times\n",
      "  appears in the sentence 41 times\n",
      "a appears in the sentence 7 times\n",
      "  appears in the sentence 41 times\n",
      "p appears in the sentence 8 times\n",
      "r appears in the sentence 17 times\n",
      "o appears in the sentence 13 times\n",
      "g appears in the sentence 1 times\n",
      "r appears in the sentence 17 times\n",
      "a appears in the sentence 7 times\n",
      "m appears in the sentence 8 times\n",
      "  appears in the sentence 41 times\n",
      "t appears in the sentence 19 times\n",
      "h appears in the sentence 9 times\n",
      "a appears in the sentence 7 times\n",
      "t appears in the sentence 19 times\n",
      "  appears in the sentence 41 times\n",
      "p appears in the sentence 8 times\n",
      "r appears in the sentence 17 times\n",
      "i appears in the sentence 14 times\n",
      "n appears in the sentence 10 times\n",
      "t appears in the sentence 19 times\n",
      "s appears in the sentence 9 times\n",
      "  appears in the sentence 41 times\n",
      "t appears in the sentence 19 times\n",
      "h appears in the sentence 9 times\n",
      "e appears in the sentence 22 times\n",
      "  appears in the sentence 41 times\n",
      "n appears in the sentence 10 times\n",
      "u appears in the sentence 9 times\n",
      "m appears in the sentence 8 times\n",
      "b appears in the sentence 4 times\n",
      "e appears in the sentence 22 times\n",
      "r appears in the sentence 17 times\n",
      "s appears in the sentence 9 times\n",
      "  appears in the sentence 41 times\n",
      "f appears in the sentence 9 times\n",
      "r appears in the sentence 17 times\n",
      "o appears in the sentence 13 times\n",
      "m appears in the sentence 8 times\n",
      "  appears in the sentence 41 times\n",
      "1 appears in the sentence 2 times\n",
      "  appears in the sentence 41 times\n",
      "t appears in the sentence 19 times\n",
      "o appears in the sentence 13 times\n",
      "  appears in the sentence 41 times\n",
      "1 appears in the sentence 2 times\n",
      "0 appears in the sentence 2 times\n",
      "0 appears in the sentence 2 times\n",
      ". appears in the sentence 2 times\n",
      "  appears in the sentence 41 times\n",
      "B appears in the sentence 1 times\n",
      "u appears in the sentence 9 times\n",
      "t appears in the sentence 19 times\n",
      "  appears in the sentence 41 times\n",
      "f appears in the sentence 9 times\n",
      "o appears in the sentence 13 times\n",
      "r appears in the sentence 17 times\n",
      "  appears in the sentence 41 times\n",
      "m appears in the sentence 8 times\n",
      "u appears in the sentence 9 times\n",
      "l appears in the sentence 6 times\n",
      "t appears in the sentence 19 times\n",
      "i appears in the sentence 14 times\n",
      "p appears in the sentence 8 times\n",
      "l appears in the sentence 6 times\n",
      "e appears in the sentence 22 times\n",
      "s appears in the sentence 9 times\n",
      "  appears in the sentence 41 times\n",
      "o appears in the sentence 13 times\n",
      "f appears in the sentence 9 times\n",
      "  appears in the sentence 41 times\n",
      "t appears in the sentence 19 times\n",
      "h appears in the sentence 9 times\n",
      "r appears in the sentence 17 times\n",
      "e appears in the sentence 22 times\n",
      "e appears in the sentence 22 times\n",
      "  appears in the sentence 41 times\n",
      "p appears in the sentence 8 times\n",
      "r appears in the sentence 17 times\n",
      "i appears in the sentence 14 times\n",
      "n appears in the sentence 10 times\n",
      "t appears in the sentence 19 times\n",
      "  appears in the sentence 41 times\n",
      "M appears in the sentence 4 times\n",
      "i appears in the sentence 14 times\n",
      "c appears in the sentence 3 times\n",
      "k appears in the sentence 2 times\n",
      "e appears in the sentence 22 times\n",
      "y appears in the sentence 2 times\n",
      "  appears in the sentence 41 times\n",
      "i appears in the sentence 14 times\n",
      "n appears in the sentence 10 times\n",
      "s appears in the sentence 9 times\n",
      "t appears in the sentence 19 times\n",
      "e appears in the sentence 22 times\n",
      "a appears in the sentence 7 times\n",
      "d appears in the sentence 3 times\n",
      "  appears in the sentence 41 times\n",
      "o appears in the sentence 13 times\n",
      "f appears in the sentence 9 times\n",
      "  appears in the sentence 41 times\n",
      "t appears in the sentence 19 times\n",
      "h appears in the sentence 9 times\n",
      "e appears in the sentence 22 times\n",
      "  appears in the sentence 41 times\n",
      "n appears in the sentence 10 times\n",
      "u appears in the sentence 9 times\n",
      "m appears in the sentence 8 times\n",
      "b appears in the sentence 4 times\n",
      "e appears in the sentence 22 times\n",
      "r appears in the sentence 17 times\n",
      "  appears in the sentence 41 times\n",
      "a appears in the sentence 7 times\n",
      "n appears in the sentence 10 times\n",
      "d appears in the sentence 3 times\n",
      "  appears in the sentence 41 times\n",
      "f appears in the sentence 9 times\n",
      "o appears in the sentence 13 times\n",
      "r appears in the sentence 17 times\n",
      "  appears in the sentence 41 times\n",
      "t appears in the sentence 19 times\n",
      "h appears in the sentence 9 times\n",
      "e appears in the sentence 22 times\n",
      "  appears in the sentence 41 times\n",
      "m appears in the sentence 8 times\n",
      "u appears in the sentence 9 times\n",
      "l appears in the sentence 6 times\n",
      "t appears in the sentence 19 times\n",
      "i appears in the sentence 14 times\n",
      "p appears in the sentence 8 times\n",
      "l appears in the sentence 6 times\n",
      "e appears in the sentence 22 times\n",
      "s appears in the sentence 9 times\n",
      "  appears in the sentence 41 times\n",
      "o appears in the sentence 13 times\n",
      "f appears in the sentence 9 times\n",
      "  appears in the sentence 41 times\n",
      "f appears in the sentence 9 times\n",
      "i appears in the sentence 14 times\n",
      "v appears in the sentence 2 times\n",
      "e appears in the sentence 22 times\n",
      "  appears in the sentence 41 times\n",
      "p appears in the sentence 8 times\n",
      "r appears in the sentence 17 times\n",
      "i appears in the sentence 14 times\n",
      "n appears in the sentence 10 times\n",
      "t appears in the sentence 19 times\n",
      "  appears in the sentence 41 times\n",
      "M appears in the sentence 4 times\n",
      "o appears in the sentence 13 times\n",
      "u appears in the sentence 9 times\n",
      "s appears in the sentence 9 times\n",
      "e appears in the sentence 22 times\n",
      ". appears in the sentence 2 times\n",
      "  appears in the sentence 41 times\n",
      "F appears in the sentence 1 times\n",
      "o appears in the sentence 13 times\n",
      "r appears in the sentence 17 times\n",
      "  appears in the sentence 41 times\n",
      "n appears in the sentence 10 times\n",
      "u appears in the sentence 9 times\n",
      "m appears in the sentence 8 times\n",
      "b appears in the sentence 4 times\n",
      "e appears in the sentence 22 times\n",
      "r appears in the sentence 17 times\n",
      "s appears in the sentence 9 times\n",
      "  appears in the sentence 41 times\n",
      "w appears in the sentence 1 times\n",
      "h appears in the sentence 9 times\n",
      "i appears in the sentence 14 times\n",
      "c appears in the sentence 3 times\n",
      "h appears in the sentence 9 times\n",
      "  appears in the sentence 41 times\n",
      "a appears in the sentence 7 times\n",
      "r appears in the sentence 17 times\n",
      "e appears in the sentence 22 times\n",
      "  appears in the sentence 41 times\n",
      "m appears in the sentence 8 times\n",
      "u appears in the sentence 9 times\n",
      "l appears in the sentence 6 times\n",
      "t appears in the sentence 19 times\n",
      "i appears in the sentence 14 times\n",
      "p appears in the sentence 8 times\n",
      "l appears in the sentence 6 times\n",
      "e appears in the sentence 22 times\n",
      "s appears in the sentence 9 times\n",
      "  appears in the sentence 41 times\n",
      "o appears in the sentence 13 times\n",
      "f appears in the sentence 9 times\n",
      "  appears in the sentence 41 times\n",
      "b appears in the sentence 4 times\n",
      "o appears in the sentence 13 times\n",
      "t appears in the sentence 19 times\n",
      "h appears in the sentence 9 times\n",
      "  appears in the sentence 41 times\n",
      "t appears in the sentence 19 times\n",
      "h appears in the sentence 9 times\n",
      "r appears in the sentence 17 times\n",
      "e appears in the sentence 22 times\n",
      "e appears in the sentence 22 times\n",
      "  appears in the sentence 41 times\n",
      "a appears in the sentence 7 times\n",
      "n appears in the sentence 10 times\n",
      "d appears in the sentence 3 times\n",
      "  appears in the sentence 41 times\n",
      "f appears in the sentence 9 times\n",
      "i appears in the sentence 14 times\n",
      "v appears in the sentence 2 times\n",
      "e appears in the sentence 22 times\n",
      "  appears in the sentence 41 times\n",
      "p appears in the sentence 8 times\n",
      "r appears in the sentence 17 times\n",
      "i appears in the sentence 14 times\n",
      "n appears in the sentence 10 times\n",
      "t appears in the sentence 19 times\n",
      "  appears in the sentence 41 times\n",
      "M appears in the sentence 4 times\n",
      "i appears in the sentence 14 times\n",
      "c appears in the sentence 3 times\n",
      "k appears in the sentence 2 times\n",
      "e appears in the sentence 22 times\n",
      "y appears in the sentence 2 times\n",
      "M appears in the sentence 4 times\n",
      "o appears in the sentence 13 times\n",
      "u appears in the sentence 9 times\n",
      "s appears in the sentence 9 times\n",
      "e appears in the sentence 22 times\n"
     ]
    }
   ],
   "source": [
    "NumOcc(s)"
   ]
  },
  {
   "cell_type": "markdown",
   "metadata": {},
   "source": [
    "5\\. Isolating the unique\n",
    "\n",
    "Write a function that determines and count the unique numbers in the list *l*"
   ]
  },
  {
   "cell_type": "code",
   "execution_count": 16,
   "metadata": {},
   "outputs": [],
   "source": [
    "l = [36, 45, 58, 3, 74, 96, 64, 45, 31, 10, 24, 19, 33, 86, 99, 18, 63, 70, 85,\n",
    " 85, 63, 47, 56, 42, 70, 84, 88, 55, 20, 54, 8, 56, 51, 79, 81, 57, 37, 91,\n",
    " 1, 84, 84, 36, 66, 9, 89, 50, 42, 91, 50, 95, 90, 98, 39, 16, 82, 31, 92, 41,\n",
    " 45, 30, 66, 70, 34, 85, 94, 5, 3, 36, 72, 91, 84, 34, 87, 75, 53, 51, 20, 89, 51, 20]"
   ]
  },
  {
   "cell_type": "code",
   "execution_count": 25,
   "metadata": {},
   "outputs": [
    {
     "name": "stdout",
     "output_type": "stream",
     "text": [
      "the unique list is  [58, 74, 96, 64, 10, 24, 19, 33, 86, 99, 18, 47, 88, 55, 54, 8, 79, 81, 57, 37, 1, 9, 95, 90, 98, 39, 16, 82, 92, 41, 30, 94, 5, 72, 87, 75, 53] and the number of unique numbers is 37\n"
     ]
    }
   ],
   "source": [
    "def Func(l):\n",
    "    List=l\n",
    "    New_list=[]\n",
    "    for i in range(0,len(List)):\n",
    "        if(List.count(List[i])==1):\n",
    "            New_list.append(List[i])\n",
    "            \n",
    "    CountN=len(New_list)\n",
    "    return New_list, CountN\n",
    "            \n",
    "NewList, CountN=Func(l)\n",
    "print(\"the unique list is \", NewList ,\"and the number of unique numbers is\" ,CountN)\n",
    "        \n",
    "        \n",
    "    \n",
    "    \n",
    "    \n",
    "    "
   ]
  },
  {
   "cell_type": "markdown",
   "metadata": {},
   "source": [
    "6\\. Combination of functions\n",
    "\n",
    "Write two functions - one that returns the square of a number, and one that returns the cube. Now write a third function that returns the number raised to the 6th power using the two previous functions."
   ]
  },
  {
   "cell_type": "code",
   "execution_count": 15,
   "metadata": {},
   "outputs": [
    {
     "name": "stdout",
     "output_type": "stream",
     "text": [
      "4\n",
      "8\n",
      "64\n"
     ]
    }
   ],
   "source": [
    "def carre(a):\n",
    "    return a*a\n",
    "\n",
    "def cube(a):\n",
    "    return a*a*a\n",
    "\n",
    "\n",
    "\n",
    "def carrecube(a):\n",
    "    return carre(cube(a))\n",
    "\n",
    "\n",
    "print(carre(2))\n",
    "print(cube(2))\n",
    "print(carrecube(2))\n",
    "    "
   ]
  },
  {
   "cell_type": "markdown",
   "metadata": {},
   "source": [
    "7\\. Cubes\n",
    "\n",
    "Create a list of the cubes of x for x in *[0, 10]* using:\n",
    "\n",
    "a) a for loop\n",
    "\n",
    "b) a list comprehension"
   ]
  },
  {
   "cell_type": "code",
   "execution_count": 30,
   "metadata": {},
   "outputs": [
    {
     "name": "stdout",
     "output_type": "stream",
     "text": [
      "[0, 1, 8, 27, 64, 125, 216, 343, 512, 729, 1000]\n"
     ]
    }
   ],
   "source": [
    "List=[]\n",
    "for x in range (0,11):\n",
    "    List.append(cube(x))\n",
    "    \n",
    "print(List)"
   ]
  },
  {
   "cell_type": "code",
   "execution_count": 31,
   "metadata": {},
   "outputs": [
    {
     "name": "stdout",
     "output_type": "stream",
     "text": [
      "[0, 1, 8, 27, 64, 125, 216, 343, 512, 729, 1000]\n"
     ]
    }
   ],
   "source": [
    "L=[cube(a) for a in range(0,11)]\n",
    "print(L)"
   ]
  },
  {
   "cell_type": "markdown",
   "metadata": {},
   "source": [
    "8\\. Nested list comprehension\n",
    "\n",
    "A Pythagorean triple is an integer solution to the Pythagorean theorem $a^2+b^2=c^2$. The first Pythagorean triple is (3,4,5). Find and put in a tuple all unique Pythagorean triples for the positive integers a, b and c less than 100."
   ]
  },
  {
   "cell_type": "code",
   "execution_count": 47,
   "metadata": {},
   "outputs": [
    {
     "name": "stdout",
     "output_type": "stream",
     "text": [
      "3 4 5\n",
      "4 3 5\n",
      "5 12 13\n",
      "6 8 10\n",
      "7 24 25\n",
      "8 6 10\n",
      "8 15 17\n",
      "9 12 15\n",
      "9 40 41\n",
      "10 24 26\n",
      "11 60 61\n",
      "12 5 13\n",
      "12 9 15\n",
      "12 16 20\n",
      "12 35 37\n",
      "13 84 85\n",
      "14 48 50\n",
      "15 8 17\n",
      "15 20 25\n",
      "15 36 39\n",
      "16 12 20\n",
      "16 30 34\n",
      "16 63 65\n",
      "18 24 30\n",
      "18 80 82\n",
      "20 15 25\n",
      "20 21 29\n",
      "20 48 52\n",
      "21 20 29\n",
      "21 28 35\n",
      "21 72 75\n",
      "24 7 25\n",
      "24 10 26\n",
      "24 18 30\n",
      "24 32 40\n",
      "24 45 51\n",
      "24 70 74\n",
      "25 60 65\n",
      "27 36 45\n",
      "28 21 35\n",
      "28 45 53\n",
      "28 96 100\n",
      "30 16 34\n",
      "30 40 50\n",
      "30 72 78\n",
      "32 24 40\n",
      "32 60 68\n",
      "33 44 55\n",
      "33 56 65\n",
      "35 12 37\n",
      "35 84 91\n",
      "36 15 39\n",
      "36 27 45\n",
      "36 48 60\n",
      "36 77 85\n",
      "39 52 65\n",
      "39 80 89\n",
      "40 9 41\n",
      "40 30 50\n",
      "40 42 58\n",
      "40 75 85\n",
      "42 40 58\n",
      "42 56 70\n",
      "44 33 55\n",
      "45 24 51\n",
      "45 28 53\n",
      "45 60 75\n",
      "48 14 50\n",
      "48 20 52\n",
      "48 36 60\n",
      "48 55 73\n",
      "48 64 80\n",
      "51 68 85\n",
      "52 39 65\n",
      "54 72 90\n",
      "55 48 73\n",
      "56 33 65\n",
      "56 42 70\n",
      "57 76 95\n",
      "60 11 61\n",
      "60 25 65\n",
      "60 32 68\n",
      "60 45 75\n",
      "60 63 87\n",
      "60 80 100\n",
      "63 16 65\n",
      "63 60 87\n",
      "64 48 80\n",
      "65 72 97\n",
      "68 51 85\n",
      "70 24 74\n",
      "72 21 75\n",
      "72 30 78\n",
      "72 54 90\n",
      "72 65 97\n",
      "75 40 85\n",
      "76 57 95\n",
      "77 36 85\n",
      "80 18 82\n",
      "80 39 89\n",
      "80 60 100\n",
      "84 13 85\n",
      "84 35 91\n",
      "96 28 100\n"
     ]
    }
   ],
   "source": [
    "from math import *\n",
    "\n",
    "for a in range (1,101):\n",
    "    for b in range(1,101):\n",
    "        Ccarre=a*a+b*b\n",
    "        #print(sqrt(Ccarre))\n",
    "        if (sqrt(Ccarre)%1==0) and (sqrt(Ccarre)<101):\n",
    "            print(a,b, int(sqrt(Ccarre)))\n",
    "\n",
    "\n"
   ]
  },
  {
   "cell_type": "code",
   "execution_count": null,
   "metadata": {},
   "outputs": [],
   "source": []
  },
  {
   "cell_type": "markdown",
   "metadata": {},
   "source": [
    "9\\. Normalization\n",
    "\n",
    "Write a function that takes a tuple of numbers and returns it with the entries normalized to one"
   ]
  },
  {
   "cell_type": "code",
   "execution_count": 62,
   "metadata": {},
   "outputs": [
    {
     "name": "stdout",
     "output_type": "stream",
     "text": [
      "(0.3333333333333333, 0.2222222222222222, 0.4444444444444444)\n"
     ]
    }
   ],
   "source": [
    "def Normalize (T):\n",
    "    TupleNor=()\n",
    "    for i in range(len(T)):\n",
    "        NormPar=sum(T)\n",
    "    for i in range(len(T)):\n",
    "        R=T[i]/NormPar\n",
    "        TupleNor=TupleNor+(R,)\n",
    "    return TupleNor\n",
    "\n",
    "Tup=(3,2,4)\n",
    "print(Normalize(Tup))\n",
    "       "
   ]
  },
  {
   "cell_type": "code",
   "execution_count": null,
   "metadata": {},
   "outputs": [],
   "source": []
  }
 ],
 "metadata": {
  "kernelspec": {
   "display_name": "Python 3",
   "language": "python",
   "name": "python3"
  },
  "language_info": {
   "codemirror_mode": {
    "name": "ipython",
    "version": 3
   },
   "file_extension": ".py",
   "mimetype": "text/x-python",
   "name": "python",
   "nbconvert_exporter": "python",
   "pygments_lexer": "ipython3",
   "version": "3.7.0"
  }
 },
 "nbformat": 4,
 "nbformat_minor": 2
}
